{
 "cells": [
  {
   "cell_type": "code",
   "execution_count": 1,
   "id": "e7a45b00",
   "metadata": {},
   "outputs": [],
   "source": [
    "#send parking lot number to pi\n",
    "def get_parking_loc():\n",
    "    loc = input (\"Enter customer's parking location: \")\n",
    "    return loc"
   ]
  },
  {
   "cell_type": "code",
   "execution_count": 2,
   "id": "33eec135",
   "metadata": {},
   "outputs": [
    {
     "name": "stdout",
     "output_type": "stream",
     "text": [
      "Enter customer's parking location: 6\n",
      "6\n"
     ]
    }
   ],
   "source": [
    "parking_loc = get_parking_loc();\n",
    "print (parking_loc)"
   ]
  },
  {
   "cell_type": "code",
   "execution_count": null,
   "id": "729ee737",
   "metadata": {},
   "outputs": [],
   "source": []
  }
 ],
 "metadata": {
  "kernelspec": {
   "display_name": "Python 3 (ipykernel)",
   "language": "python",
   "name": "python3"
  },
  "language_info": {
   "codemirror_mode": {
    "name": "ipython",
    "version": 3
   },
   "file_extension": ".py",
   "mimetype": "text/x-python",
   "name": "python",
   "nbconvert_exporter": "python",
   "pygments_lexer": "ipython3",
   "version": "3.8.12"
  }
 },
 "nbformat": 4,
 "nbformat_minor": 5
}
